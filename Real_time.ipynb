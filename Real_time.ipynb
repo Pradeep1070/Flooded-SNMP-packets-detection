{
  "nbformat": 4,
  "nbformat_minor": 0,
  "metadata": {
    "kernelspec": {
      "display_name": "Python 3",
      "language": "python",
      "name": "python3"
    },
    "language_info": {
      "codemirror_mode": {
        "name": "ipython",
        "version": 3
      },
      "file_extension": ".py",
      "mimetype": "text/x-python",
      "name": "python",
      "nbconvert_exporter": "python",
      "pygments_lexer": "ipython3",
      "version": "3.7.4"
    },
    "colab": {
      "provenance": []
    }
  },
  "cells": [
    {
      "cell_type": "code",
      "metadata": {
        "id": "bhbV4qUmOIhp"
      },
      "source": [
        "import pandas as pd\n",
        "import numpy as np\n",
        "import datetime\n",
        "import seaborn as sns"
      ],
      "execution_count": null,
      "outputs": []
    },
    {
      "cell_type": "markdown",
      "metadata": {
        "id": "GFEvQaC-X_sx"
      },
      "source": [
        "# functions"
      ]
    },
    {
      "cell_type": "code",
      "metadata": {
        "id": "uwTtNm7iOIhx"
      },
      "source": [
        "def TimeDiff(df, frameSize): #finds the time difference\n",
        "    count = 1\n",
        "    classLabel = df.loc[1,\"ClassLabel\"]\n",
        "    time_diff = [0]\n",
        "    rows = (df.shape)[0]\n",
        "    for i in range(1,rows):\n",
        "        if((df.loc[i+1,\"ClassLabel\"] == classLabel) and (count < frameSize)):\n",
        "            diff = datetime.datetime.strptime(df.iloc[i,0].split(' ')[3],\"%H:%M:%S\") - datetime.datetime.strptime(df.iloc[i-1,0].split(' ')[3],\"%H:%M:%S\")\n",
        "            time_diff.append(diff.total_seconds())\n",
        "            count = count + 1\n",
        "        else:\n",
        "            time_diff.append(0)\n",
        "            classLabel = df.loc[i+1,\"ClassLabel\"]\n",
        "            count = 1\n",
        "    df[\"SNMP Parameters\"] = time_diff\n",
        "    df.rename(index=str, columns={\"SNMP Parameters\": \"Time Difference\"})"
      ],
      "execution_count": null,
      "outputs": []
    },
    {
      "cell_type": "code",
      "metadata": {
        "id": "-moiL-l3OIh4"
      },
      "source": [
        "def difference(df,cols): #value of each packet is compared with the earlier packet for columns specified in colsToFindDifference and that difference is used as new value for the column\n",
        "    classLabel = df.loc[1,\"ClassLabel\"]\n",
        "    diffList = []\n",
        "\n",
        "    for j in cols:\n",
        "        diffList.append([df.loc[1,j]])\n",
        "\n",
        "    rows = (df.shape)[0]\n",
        "    for i in range(2,rows+1):\n",
        "        if((df.loc[i,\"ClassLabel\"] == classLabel)):\n",
        "            for j in range(len(cols)):\n",
        "                diffList[j].append(df.loc[i,cols[j]] - df.loc[i-1,cols[j]])\n",
        "        else:\n",
        "            for j in range(len(cols)):\n",
        "                diffList[j].append(df.loc[i,cols[j]])\n",
        "            classLabel = df.loc[i,\"ClassLabel\"]\n",
        "\n",
        "    # print(df)\n",
        "    # print(df.columns)\n",
        "    # del df['ClassLabel']\n",
        "    # print(df)\n",
        "\n",
        "    for j in range(len(cols)):\n",
        "        df[cols[j]] = diffList[j]"
      ],
      "execution_count": null,
      "outputs": []
    },
    {
      "cell_type": "code",
      "metadata": {
        "id": "DM7KdV05OIh8"
      },
      "source": [
        "def makeNewDataFrame(df, frameSize): #combine 6 packets together\n",
        "    i = 0\n",
        "    listOfRowVals = []\n",
        "    rows = (df.shape)[0]\n",
        "    while(i+frameSize-1<rows):\n",
        "        if(df.iloc[i,-1] == df.iloc[i+frameSize-1,-1]):\n",
        "            rowVals = []\n",
        "            for j in range(frameSize):\n",
        "                rowVals = rowVals + list(df.iloc[i+j,:-1])\n",
        "            rowVals.append(df.iloc[i,-1])\n",
        "            i = i+frameSize\n",
        "            listOfRowVals.append(rowVals)\n",
        "        else:\n",
        "            j = 1\n",
        "            while(df.iloc[i,-1] == df.iloc[i+j,-1]):\n",
        "                j=j+1\n",
        "            i = i+j\n",
        "    new_df = pd.DataFrame(listOfRowVals)\n",
        "    return new_df"
      ],
      "execution_count": null,
      "outputs": []
    },
    {
      "cell_type": "markdown",
      "metadata": {
        "id": "eQfirZBdYR8v"
      },
      "source": [
        "# Preprocessing Real time data"
      ]
    },
    {
      "cell_type": "code",
      "metadata": {
        "id": "P5F9rI76OMA1",
        "outputId": "cadb3be9-150e-41e4-81be-801509fa1dc7",
        "colab": {
          "base_uri": "https://localhost:8080/"
        }
      },
      "source": [
        "from google.colab import drive\n",
        "drive.mount('/content/drive')"
      ],
      "execution_count": null,
      "outputs": [
        {
          "output_type": "stream",
          "name": "stdout",
          "text": [
            "Mounted at /content/drive\n"
          ]
        }
      ]
    },
    {
      "cell_type": "markdown",
      "metadata": {
        "id": "3onhw2UDUx_Y"
      },
      "source": [
        "Load dataset to dataframe\n",
        "\n"
      ]
    },
    {
      "cell_type": "code",
      "metadata": {
        "id": "oDIY5tW-OIiA",
        "outputId": "c56be64e-193d-4c14-d247-fb1ec5804a30",
        "colab": {
          "base_uri": "https://localhost:8080/"
        }
      },
      "source": [
        "df = pd.read_csv('/content/drive/My Drive/Colab Notebooks/Flooded SNMP packets detection/RealTimeData/realTime_SNMP_Dataset.csv')\n",
        "#To drop iso values\n",
        "df = df[1:]\n",
        "\n",
        "# #Coding Class Types into integers\n",
        "labelDict = {'ICMP_Normal' : 0, 'UDP_Normal' : 1, 'LAND_Normal' : 2,\n",
        "            'TCPSYN_Normal' : 3, 'TCPSYNACK_Normal' : 4, 'ICMP_Flood' : 5,\n",
        "            'UDP_Flood' : 6, 'LAND_Flood' : 7, 'TCPSYN_Flood' : 8,\n",
        "             'TCPSYNACK_Flood' : 9}\n",
        "# labelDict = {'ICMP_Normal' : 0, 'UDP_Normal' : 0, 'LAND_Normal' : 0,\n",
        "#             'TCPSYN_Normal' : 0, 'TCPSYNACK_Normal' : 0, 'ICMP_Flood' : 1,\n",
        "#             'UDP_Flood' : 1, 'LAND_Flood' : 1, 'TCPSYN_Flood' : 1,\n",
        "#              'TCPSYNACK_Flood' : 1}\n",
        "\n",
        "limit = len(df['ClassLabel']) + 1\n",
        "for i in range(1, limit):\n",
        "    df['ClassLabel'][i] = labelDict[df['ClassLabel'][i]]\n",
        "\n",
        "\n",
        "df = df.loc[0:350,:]\n",
        "df = df.reset_index(drop=True, )\n",
        "df.index += 1\n",
        "\n",
        "print(df.shape)\n",
        "# print(df)"
      ],
      "execution_count": null,
      "outputs": [
        {
          "output_type": "stream",
          "name": "stdout",
          "text": [
            "(350, 66)\n"
          ]
        }
      ]
    },
    {
      "cell_type": "code",
      "metadata": {
        "id": "GXi8q_EmGWSx"
      },
      "source": [
        "print(df)"
      ],
      "execution_count": null,
      "outputs": []
    },
    {
      "cell_type": "code",
      "metadata": {
        "scrolled": true,
        "id": "hvnN5mHkOIiF"
      },
      "source": [
        "frameSize = 6 #no of packets to analyze at once to detect an attack\n",
        "TimeDiff(df, frameSize)\n",
        "\n",
        "# print(df)\n",
        "# print(df.shape)"
      ],
      "execution_count": null,
      "outputs": []
    },
    {
      "cell_type": "code",
      "metadata": {
        "id": "jVKTtYXZiJzr"
      },
      "source": [
        "#these are the colums that remained after dimentionality reduction of training data in preprocessing stage. dataframe will only consists of these columns from here onwards\n",
        "columns=['SNMP Parameters', 'icmp_InEchosReps', 'icmp_InErrors', 'icmp_InMsgs',\n",
        "       'icmp_InTimeExcds', 'icmp_InTimestamps', 'icmp_OutEchoReps',\n",
        "       'icmp_OutErrors', 'icmp_OutTimeExcds', 'icmp_OutTimestamps',\n",
        "       'ip_FragCreates', 'ip_FragOKs', 'ip_InAddrErrors', 'ip_InDelivers',\n",
        "       'ip_InReceives', 'ip_OutRequests', 'ip_ReasmOKs', 'ip_ReasmReqds',\n",
        "       'tcp_ActiveOpens', 'tcp_CurrEstablish', 'tcp_EstabResets', 'tcp_InSegs',\n",
        "       'tcp_OutRsts', 'tcp_OutSegs', 'tcp_PassiveOpens', 'tcp_RetransSegs',\n",
        "       'udp_InDatagrams', 'udp_NoPorts', 'udp_OutDatagrams',\n",
        "       'ClassLabel'\n",
        "       ]\n",
        "\n",
        "df = df[columns].copy()\n",
        "# print(df.shape)"
      ],
      "execution_count": null,
      "outputs": []
    },
    {
      "cell_type": "code",
      "metadata": {
        "id": "TIeogvyzOIiM"
      },
      "source": [
        "df = df.astype(int) #casting dataframe to integer\n",
        "\n",
        "# print(len(list((df.loc[:, df.std() == 0]).columns)))\n",
        "# print(df.shape)\n",
        "# print((df.loc[:, df.std() == 0]).columns)"
      ],
      "execution_count": null,
      "outputs": []
    },
    {
      "cell_type": "code",
      "metadata": {
        "id": "K4ehrr7UOIic",
        "outputId": "97c6ec7a-ae59-4457-8733-ee78b7aaa8b5",
        "colab": {
          "base_uri": "https://localhost:8080/"
        }
      },
      "source": [
        "#value of each packet is compared with the earlier packet for columns specified in colsToFindDifference and that difference is used as new value for the column\n",
        "colsToFindDifference=['icmp_InEchosReps','icmp_InMsgs','icmp_OutErrors','icmp_OutTimestamps','ip_InDelivers','ip_InReceives','ip_OutRequests','udp_InDatagrams','udp_OutDatagrams']\n",
        "difference(df,colsToFindDifference)\n",
        "print(df.shape)"
      ],
      "execution_count": null,
      "outputs": [
        {
          "output_type": "stream",
          "name": "stdout",
          "text": [
            "(350, 30)\n"
          ]
        }
      ]
    },
    {
      "cell_type": "markdown",
      "metadata": {
        "id": "lOR-HrYDXYiF"
      },
      "source": [
        "combine packets to one row of data"
      ]
    },
    {
      "cell_type": "code",
      "metadata": {
        "id": "QJS7cQxjOIig"
      },
      "source": [
        "df_ = makeNewDataFrame(df, frameSize)\n",
        "#print(df_)"
      ],
      "execution_count": null,
      "outputs": []
    },
    {
      "cell_type": "markdown",
      "metadata": {
        "id": "Nm0Je6jtYYAS"
      },
      "source": [
        "# Classify Real time data"
      ]
    },
    {
      "cell_type": "markdown",
      "metadata": {
        "id": "b5NyT9gVXfv9"
      },
      "source": [
        "load the trained classifier model"
      ]
    },
    {
      "cell_type": "code",
      "metadata": {
        "id": "l7HWsymzsTZk",
        "colab": {
          "base_uri": "https://localhost:8080/"
        },
        "outputId": "7c163ae4-208b-43c7-b759-a6625509756b"
      },
      "source": [
        "import joblib\n",
        "\n",
        "xtra_multi_classifier=joblib.load('/content/drive/My Drive/Colab Notebooks/A-Prediction-model-for-flooded-packets-in-SNMP-Networks-master/Pickles/pickle_model_xtra.pkl')\n",
        "# print(xtra_multi_classifier.classes_)"
      ],
      "execution_count": null,
      "outputs": [
        {
          "output_type": "stream",
          "name": "stderr",
          "text": [
            "/usr/local/lib/python3.10/dist-packages/sklearn/base.py:318: UserWarning: Trying to unpickle estimator ExtraTreeClassifier from version 0.22.2.post1 when using version 1.2.2. This might lead to breaking code or invalid results. Use at your own risk. For more info please refer to:\n",
            "https://scikit-learn.org/stable/model_persistence.html#security-maintainability-limitations\n",
            "  warnings.warn(\n",
            "/usr/local/lib/python3.10/dist-packages/sklearn/base.py:318: UserWarning: Trying to unpickle estimator ExtraTreesClassifier from version 0.22.2.post1 when using version 1.2.2. This might lead to breaking code or invalid results. Use at your own risk. For more info please refer to:\n",
            "https://scikit-learn.org/stable/model_persistence.html#security-maintainability-limitations\n",
            "  warnings.warn(\n"
          ]
        }
      ]
    },
    {
      "cell_type": "code",
      "metadata": {
        "id": "I-NzAkCv6YjG"
      },
      "source": [
        "df_ = df_.iloc[:,1:]\n",
        "df_ = df_.reset_index(drop=True)\n",
        "# df_.head()"
      ],
      "execution_count": null,
      "outputs": []
    },
    {
      "cell_type": "code",
      "metadata": {
        "id": "2zYsLagUMRwd"
      },
      "source": [
        "print(df_)"
      ],
      "execution_count": null,
      "outputs": []
    },
    {
      "cell_type": "markdown",
      "metadata": {
        "id": "vxY6eldtXl94"
      },
      "source": [
        "classify"
      ]
    },
    {
      "cell_type": "code",
      "metadata": {
        "id": "6pzWgSyYngh3"
      },
      "source": [
        "labelDict = {'ICMP_Normal' : 0, 'UDP_Normal' : 1, 'LAND_Normal' : 2,\n",
        "            'TCPSYN_Normal' : 3, 'TCPSYNACK_Normal' : 4, 'ICMP_Flood' : 5,\n",
        "            'UDP_Flood' : 6, 'LAND_Flood' : 7, 'TCPSYN_Flood' : 8,\n",
        "             'TCPSYNACK_Flood' : 9}\n",
        "newLabDict={value : key for (key, value) in labelDict.items()}\n",
        "# print(newLabDict)"
      ],
      "execution_count": null,
      "outputs": []
    },
    {
      "cell_type": "code",
      "metadata": {
        "id": "-QMRzSGiMjem",
        "outputId": "6850e24d-65a5-4e61-948a-d8dc5ca6c3dc",
        "colab": {
          "base_uri": "https://localhost:8080/"
        }
      },
      "source": [
        "#classify single data point\n",
        "from sklearn.preprocessing import StandardScaler\n",
        "\n",
        "test_data=df_.iloc[:,:-1]\n",
        "sc_ = StandardScaler()\n",
        "sc_.fit(test_data)\n",
        "test_data_std = sc_.transform(test_data)\n",
        "print(xtra_multi_classifier.predict(test_data_std))\n",
        "class_label=xtra_multi_classifier.predict(test_data_std)[0]\n",
        "\n",
        "\n",
        "if newLabDict[class_label].find('Flood') != -1:\n",
        "  print('ATTACK','\\nAttack Type : ',newLabDict[class_label])\n",
        "else:\n",
        "  print('NORMAL data flow','\\nPacket Type : ',newLabDict[class_label])"
      ],
      "execution_count": null,
      "outputs": [
        {
          "output_type": "stream",
          "name": "stdout",
          "text": [
            "[5 3 3 3 3 3 3 3 3 3 3 3 1 1 1 1 1 1 1 1 1 1 1 1 1 1 1 1 1 1 1 1 1 1 1 1 1\n",
            " 1 1 1 1 1 1 7 7 7 7 7 7 1 1 7 7 7 7 7 1]\n",
            "ATTACK \n",
            "Attack Type :  ICMP_Flood\n"
          ]
        }
      ]
    },
    {
      "cell_type": "code",
      "metadata": {
        "id": "GJ5B29qVvB4t",
        "outputId": "e5e3e148-434c-487a-b180-0141f393e5b6",
        "colab": {
          "base_uri": "https://localhost:8080/"
        }
      },
      "source": [
        "# classify all data\n",
        "\n",
        "from sklearn.preprocessing import StandardScaler\n",
        "\n",
        "actual=df_.iloc[:,-1]\n",
        "\n",
        "test_data=df_.iloc[:,:-1]\n",
        "sc_ = StandardScaler()\n",
        "sc_.fit(test_data)\n",
        "test_data_std = sc_.transform(test_data)\n",
        "print(xtra_multi_classifier.score(test_data_std,actual))\n",
        "\n",
        "n=0\n",
        "n2=0\n",
        "for i in (list(xtra_multi_classifier.predict(test_data_std))):\n",
        "  print(n,i,actual[n])\n",
        "  if i==actual[n]:\n",
        "    n2+=1\n",
        "  n+=1\n",
        "print((n2)*100/397)"
      ],
      "execution_count": null,
      "outputs": [
        {
          "output_type": "stream",
          "name": "stdout",
          "text": [
            "0.0\n",
            "0 5 0\n",
            "1 3 0\n",
            "2 3 0\n",
            "3 3 0\n",
            "4 3 0\n",
            "5 3 0\n",
            "6 3 0\n",
            "7 3 0\n",
            "8 3 0\n",
            "9 3 0\n",
            "10 3 0\n",
            "11 3 0\n",
            "12 1 0\n",
            "13 1 0\n",
            "14 1 0\n",
            "15 1 0\n",
            "16 1 0\n",
            "17 1 0\n",
            "18 1 0\n",
            "19 1 0\n",
            "20 1 0\n",
            "21 1 0\n",
            "22 1 0\n",
            "23 1 0\n",
            "24 1 0\n",
            "25 1 0\n",
            "26 1 0\n",
            "27 1 0\n",
            "28 1 0\n",
            "29 1 0\n",
            "30 1 0\n",
            "31 1 0\n",
            "32 1 0\n",
            "33 1 0\n",
            "34 1 0\n",
            "35 1 0\n",
            "36 1 0\n",
            "37 1 0\n",
            "38 1 0\n",
            "39 1 0\n",
            "40 1 0\n",
            "41 1 2\n",
            "42 1 2\n",
            "43 7 2\n",
            "44 7 2\n",
            "45 7 2\n",
            "46 7 2\n",
            "47 7 2\n",
            "48 7 2\n",
            "49 1 2\n",
            "50 1 2\n",
            "51 7 2\n",
            "52 7 2\n",
            "53 7 2\n",
            "54 7 2\n",
            "55 7 2\n",
            "56 1 2\n",
            "0.0\n"
          ]
        }
      ]
    }
  ]
}