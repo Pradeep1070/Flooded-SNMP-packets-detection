{
  "nbformat": 4,
  "nbformat_minor": 0,
  "metadata": {
    "kernelspec": {
      "display_name": "Python 3",
      "language": "python",
      "name": "python3"
    },
    "language_info": {
      "codemirror_mode": {
        "name": "ipython",
        "version": 3
      },
      "file_extension": ".py",
      "mimetype": "text/x-python",
      "name": "python",
      "nbconvert_exporter": "python",
      "pygments_lexer": "ipython3",
      "version": "3.7.4"
    },
    "colab": {
      "provenance": [],
      "collapsed_sections": [
        "Fx6kRq4krFcS"
      ]
    }
  },
  "cells": [
    {
      "cell_type": "code",
      "metadata": {
        "id": "YWuz1Nh2hU5S"
      },
      "source": [
        "import numpy as np\n",
        "import pandas as pd\n",
        "from sklearn.preprocessing import StandardScaler\n",
        "from sklearn.model_selection import train_test_split\n",
        "from sklearn.model_selection import cross_val_score\n",
        "import warnings\n",
        "warnings.filterwarnings('ignore')"
      ],
      "execution_count": null,
      "outputs": []
    },
    {
      "cell_type": "code",
      "metadata": {
        "id": "PCny6a0ghfV_",
        "colab": {
          "base_uri": "https://localhost:8080/"
        },
        "outputId": "a1405689-ae1c-4409-c4e9-e04c29b5fec2"
      },
      "source": [
        "from google.colab import drive\n",
        "drive.mount('/content/drive')"
      ],
      "execution_count": null,
      "outputs": [
        {
          "output_type": "stream",
          "name": "stdout",
          "text": [
            "Mounted at /content/drive\n"
          ]
        }
      ]
    },
    {
      "cell_type": "markdown",
      "metadata": {
        "id": "_1cY8eSQaauO"
      },
      "source": [
        "# load data"
      ]
    },
    {
      "cell_type": "code",
      "metadata": {
        "id": "qvtsmazUhU5Z"
      },
      "source": [
        "df = pd.read_csv('/content/drive/My Drive/Colab Notebooks/Flooded SNMP packets detection/transormed_SNMPdata_binary.csv')\n",
        "#df = pd.read_csv('/content/drive/My Drive/Colab Notebooks/Flooded SNMP packets detection/transormed_SNMPdata_multiclass.csv')"
      ],
      "execution_count": null,
      "outputs": []
    },
    {
      "cell_type": "code",
      "metadata": {
        "id": "1MzWjbbL59_y"
      },
      "source": [
        "df = df.iloc[:,2:]\n",
        "df = df.reset_index(drop=True)\n",
        "# df.head()"
      ],
      "execution_count": null,
      "outputs": []
    },
    {
      "cell_type": "code",
      "source": [
        "print(df.shape)\n",
        "df.head()"
      ],
      "metadata": {
        "colab": {
          "base_uri": "https://localhost:8080/",
          "height": 254
        },
        "id": "-OFjpVyMz5Zz",
        "outputId": "c8561bb3-1b07-4c4e-d13b-165a46bd7f40"
      },
      "execution_count": null,
      "outputs": [
        {
          "output_type": "stream",
          "name": "stdout",
          "text": [
            "(397, 174)\n"
          ]
        },
        {
          "output_type": "execute_result",
          "data": {
            "text/plain": [
              "     1  2    3  4  5  6     7  8     9  10  ...  165  166  167  168  169  170  \\\n",
              "0   16  0   17  1  0  0    17  1    16   0  ...    0  273    0  296    2    0   \n",
              "1  108  0  108  1  0  0    91  1    91   0  ...    0  273    0  296    2    0   \n",
              "2   98  0   98  1  0  0    82  1    97   0  ...    0  299    0  316    2    0   \n",
              "3   93  0   93  1  0  0    93  1   108   0  ...    0  299    0  316    2    0   \n",
              "4  104  0  104  1  0  0  2618  1  2617   0  ...    0  299    0  316    2    0   \n",
              "\n",
              "   171  172  173  174  \n",
              "0  296    2  296    0  \n",
              "1  296    2  296    0  \n",
              "2  296    2  296    0  \n",
              "3  296    2  296    0  \n",
              "4  296    2  296    0  \n",
              "\n",
              "[5 rows x 174 columns]"
            ],
            "text/html": [
              "\n",
              "  <div id=\"df-141561bd-65c0-4f71-9a2c-c961fd3b6077\" class=\"colab-df-container\">\n",
              "    <div>\n",
              "<style scoped>\n",
              "    .dataframe tbody tr th:only-of-type {\n",
              "        vertical-align: middle;\n",
              "    }\n",
              "\n",
              "    .dataframe tbody tr th {\n",
              "        vertical-align: top;\n",
              "    }\n",
              "\n",
              "    .dataframe thead th {\n",
              "        text-align: right;\n",
              "    }\n",
              "</style>\n",
              "<table border=\"1\" class=\"dataframe\">\n",
              "  <thead>\n",
              "    <tr style=\"text-align: right;\">\n",
              "      <th></th>\n",
              "      <th>1</th>\n",
              "      <th>2</th>\n",
              "      <th>3</th>\n",
              "      <th>4</th>\n",
              "      <th>5</th>\n",
              "      <th>6</th>\n",
              "      <th>7</th>\n",
              "      <th>8</th>\n",
              "      <th>9</th>\n",
              "      <th>10</th>\n",
              "      <th>...</th>\n",
              "      <th>165</th>\n",
              "      <th>166</th>\n",
              "      <th>167</th>\n",
              "      <th>168</th>\n",
              "      <th>169</th>\n",
              "      <th>170</th>\n",
              "      <th>171</th>\n",
              "      <th>172</th>\n",
              "      <th>173</th>\n",
              "      <th>174</th>\n",
              "    </tr>\n",
              "  </thead>\n",
              "  <tbody>\n",
              "    <tr>\n",
              "      <th>0</th>\n",
              "      <td>16</td>\n",
              "      <td>0</td>\n",
              "      <td>17</td>\n",
              "      <td>1</td>\n",
              "      <td>0</td>\n",
              "      <td>0</td>\n",
              "      <td>17</td>\n",
              "      <td>1</td>\n",
              "      <td>16</td>\n",
              "      <td>0</td>\n",
              "      <td>...</td>\n",
              "      <td>0</td>\n",
              "      <td>273</td>\n",
              "      <td>0</td>\n",
              "      <td>296</td>\n",
              "      <td>2</td>\n",
              "      <td>0</td>\n",
              "      <td>296</td>\n",
              "      <td>2</td>\n",
              "      <td>296</td>\n",
              "      <td>0</td>\n",
              "    </tr>\n",
              "    <tr>\n",
              "      <th>1</th>\n",
              "      <td>108</td>\n",
              "      <td>0</td>\n",
              "      <td>108</td>\n",
              "      <td>1</td>\n",
              "      <td>0</td>\n",
              "      <td>0</td>\n",
              "      <td>91</td>\n",
              "      <td>1</td>\n",
              "      <td>91</td>\n",
              "      <td>0</td>\n",
              "      <td>...</td>\n",
              "      <td>0</td>\n",
              "      <td>273</td>\n",
              "      <td>0</td>\n",
              "      <td>296</td>\n",
              "      <td>2</td>\n",
              "      <td>0</td>\n",
              "      <td>296</td>\n",
              "      <td>2</td>\n",
              "      <td>296</td>\n",
              "      <td>0</td>\n",
              "    </tr>\n",
              "    <tr>\n",
              "      <th>2</th>\n",
              "      <td>98</td>\n",
              "      <td>0</td>\n",
              "      <td>98</td>\n",
              "      <td>1</td>\n",
              "      <td>0</td>\n",
              "      <td>0</td>\n",
              "      <td>82</td>\n",
              "      <td>1</td>\n",
              "      <td>97</td>\n",
              "      <td>0</td>\n",
              "      <td>...</td>\n",
              "      <td>0</td>\n",
              "      <td>299</td>\n",
              "      <td>0</td>\n",
              "      <td>316</td>\n",
              "      <td>2</td>\n",
              "      <td>0</td>\n",
              "      <td>296</td>\n",
              "      <td>2</td>\n",
              "      <td>296</td>\n",
              "      <td>0</td>\n",
              "    </tr>\n",
              "    <tr>\n",
              "      <th>3</th>\n",
              "      <td>93</td>\n",
              "      <td>0</td>\n",
              "      <td>93</td>\n",
              "      <td>1</td>\n",
              "      <td>0</td>\n",
              "      <td>0</td>\n",
              "      <td>93</td>\n",
              "      <td>1</td>\n",
              "      <td>108</td>\n",
              "      <td>0</td>\n",
              "      <td>...</td>\n",
              "      <td>0</td>\n",
              "      <td>299</td>\n",
              "      <td>0</td>\n",
              "      <td>316</td>\n",
              "      <td>2</td>\n",
              "      <td>0</td>\n",
              "      <td>296</td>\n",
              "      <td>2</td>\n",
              "      <td>296</td>\n",
              "      <td>0</td>\n",
              "    </tr>\n",
              "    <tr>\n",
              "      <th>4</th>\n",
              "      <td>104</td>\n",
              "      <td>0</td>\n",
              "      <td>104</td>\n",
              "      <td>1</td>\n",
              "      <td>0</td>\n",
              "      <td>0</td>\n",
              "      <td>2618</td>\n",
              "      <td>1</td>\n",
              "      <td>2617</td>\n",
              "      <td>0</td>\n",
              "      <td>...</td>\n",
              "      <td>0</td>\n",
              "      <td>299</td>\n",
              "      <td>0</td>\n",
              "      <td>316</td>\n",
              "      <td>2</td>\n",
              "      <td>0</td>\n",
              "      <td>296</td>\n",
              "      <td>2</td>\n",
              "      <td>296</td>\n",
              "      <td>0</td>\n",
              "    </tr>\n",
              "  </tbody>\n",
              "</table>\n",
              "<p>5 rows × 174 columns</p>\n",
              "</div>\n",
              "    <div class=\"colab-df-buttons\">\n",
              "\n",
              "  <div class=\"colab-df-container\">\n",
              "    <button class=\"colab-df-convert\" onclick=\"convertToInteractive('df-141561bd-65c0-4f71-9a2c-c961fd3b6077')\"\n",
              "            title=\"Convert this dataframe to an interactive table.\"\n",
              "            style=\"display:none;\">\n",
              "\n",
              "  <svg xmlns=\"http://www.w3.org/2000/svg\" height=\"24px\" viewBox=\"0 -960 960 960\">\n",
              "    <path d=\"M120-120v-720h720v720H120Zm60-500h600v-160H180v160Zm220 220h160v-160H400v160Zm0 220h160v-160H400v160ZM180-400h160v-160H180v160Zm440 0h160v-160H620v160ZM180-180h160v-160H180v160Zm440 0h160v-160H620v160Z\"/>\n",
              "  </svg>\n",
              "    </button>\n",
              "\n",
              "  <style>\n",
              "    .colab-df-container {\n",
              "      display:flex;\n",
              "      gap: 12px;\n",
              "    }\n",
              "\n",
              "    .colab-df-convert {\n",
              "      background-color: #E8F0FE;\n",
              "      border: none;\n",
              "      border-radius: 50%;\n",
              "      cursor: pointer;\n",
              "      display: none;\n",
              "      fill: #1967D2;\n",
              "      height: 32px;\n",
              "      padding: 0 0 0 0;\n",
              "      width: 32px;\n",
              "    }\n",
              "\n",
              "    .colab-df-convert:hover {\n",
              "      background-color: #E2EBFA;\n",
              "      box-shadow: 0px 1px 2px rgba(60, 64, 67, 0.3), 0px 1px 3px 1px rgba(60, 64, 67, 0.15);\n",
              "      fill: #174EA6;\n",
              "    }\n",
              "\n",
              "    .colab-df-buttons div {\n",
              "      margin-bottom: 4px;\n",
              "    }\n",
              "\n",
              "    [theme=dark] .colab-df-convert {\n",
              "      background-color: #3B4455;\n",
              "      fill: #D2E3FC;\n",
              "    }\n",
              "\n",
              "    [theme=dark] .colab-df-convert:hover {\n",
              "      background-color: #434B5C;\n",
              "      box-shadow: 0px 1px 3px 1px rgba(0, 0, 0, 0.15);\n",
              "      filter: drop-shadow(0px 1px 2px rgba(0, 0, 0, 0.3));\n",
              "      fill: #FFFFFF;\n",
              "    }\n",
              "  </style>\n",
              "\n",
              "    <script>\n",
              "      const buttonEl =\n",
              "        document.querySelector('#df-141561bd-65c0-4f71-9a2c-c961fd3b6077 button.colab-df-convert');\n",
              "      buttonEl.style.display =\n",
              "        google.colab.kernel.accessAllowed ? 'block' : 'none';\n",
              "\n",
              "      async function convertToInteractive(key) {\n",
              "        const element = document.querySelector('#df-141561bd-65c0-4f71-9a2c-c961fd3b6077');\n",
              "        const dataTable =\n",
              "          await google.colab.kernel.invokeFunction('convertToInteractive',\n",
              "                                                    [key], {});\n",
              "        if (!dataTable) return;\n",
              "\n",
              "        const docLinkHtml = 'Like what you see? Visit the ' +\n",
              "          '<a target=\"_blank\" href=https://colab.research.google.com/notebooks/data_table.ipynb>data table notebook</a>'\n",
              "          + ' to learn more about interactive tables.';\n",
              "        element.innerHTML = '';\n",
              "        dataTable['output_type'] = 'display_data';\n",
              "        await google.colab.output.renderOutput(dataTable, element);\n",
              "        const docLink = document.createElement('div');\n",
              "        docLink.innerHTML = docLinkHtml;\n",
              "        element.appendChild(docLink);\n",
              "      }\n",
              "    </script>\n",
              "  </div>\n",
              "\n",
              "\n",
              "<div id=\"df-59f77069-4ab0-4624-8976-4e99a9489249\">\n",
              "  <button class=\"colab-df-quickchart\" onclick=\"quickchart('df-59f77069-4ab0-4624-8976-4e99a9489249')\"\n",
              "            title=\"Suggest charts\"\n",
              "            style=\"display:none;\">\n",
              "\n",
              "<svg xmlns=\"http://www.w3.org/2000/svg\" height=\"24px\"viewBox=\"0 0 24 24\"\n",
              "     width=\"24px\">\n",
              "    <g>\n",
              "        <path d=\"M19 3H5c-1.1 0-2 .9-2 2v14c0 1.1.9 2 2 2h14c1.1 0 2-.9 2-2V5c0-1.1-.9-2-2-2zM9 17H7v-7h2v7zm4 0h-2V7h2v10zm4 0h-2v-4h2v4z\"/>\n",
              "    </g>\n",
              "</svg>\n",
              "  </button>\n",
              "\n",
              "<style>\n",
              "  .colab-df-quickchart {\n",
              "      --bg-color: #E8F0FE;\n",
              "      --fill-color: #1967D2;\n",
              "      --hover-bg-color: #E2EBFA;\n",
              "      --hover-fill-color: #174EA6;\n",
              "      --disabled-fill-color: #AAA;\n",
              "      --disabled-bg-color: #DDD;\n",
              "  }\n",
              "\n",
              "  [theme=dark] .colab-df-quickchart {\n",
              "      --bg-color: #3B4455;\n",
              "      --fill-color: #D2E3FC;\n",
              "      --hover-bg-color: #434B5C;\n",
              "      --hover-fill-color: #FFFFFF;\n",
              "      --disabled-bg-color: #3B4455;\n",
              "      --disabled-fill-color: #666;\n",
              "  }\n",
              "\n",
              "  .colab-df-quickchart {\n",
              "    background-color: var(--bg-color);\n",
              "    border: none;\n",
              "    border-radius: 50%;\n",
              "    cursor: pointer;\n",
              "    display: none;\n",
              "    fill: var(--fill-color);\n",
              "    height: 32px;\n",
              "    padding: 0;\n",
              "    width: 32px;\n",
              "  }\n",
              "\n",
              "  .colab-df-quickchart:hover {\n",
              "    background-color: var(--hover-bg-color);\n",
              "    box-shadow: 0 1px 2px rgba(60, 64, 67, 0.3), 0 1px 3px 1px rgba(60, 64, 67, 0.15);\n",
              "    fill: var(--button-hover-fill-color);\n",
              "  }\n",
              "\n",
              "  .colab-df-quickchart-complete:disabled,\n",
              "  .colab-df-quickchart-complete:disabled:hover {\n",
              "    background-color: var(--disabled-bg-color);\n",
              "    fill: var(--disabled-fill-color);\n",
              "    box-shadow: none;\n",
              "  }\n",
              "\n",
              "  .colab-df-spinner {\n",
              "    border: 2px solid var(--fill-color);\n",
              "    border-color: transparent;\n",
              "    border-bottom-color: var(--fill-color);\n",
              "    animation:\n",
              "      spin 1s steps(1) infinite;\n",
              "  }\n",
              "\n",
              "  @keyframes spin {\n",
              "    0% {\n",
              "      border-color: transparent;\n",
              "      border-bottom-color: var(--fill-color);\n",
              "      border-left-color: var(--fill-color);\n",
              "    }\n",
              "    20% {\n",
              "      border-color: transparent;\n",
              "      border-left-color: var(--fill-color);\n",
              "      border-top-color: var(--fill-color);\n",
              "    }\n",
              "    30% {\n",
              "      border-color: transparent;\n",
              "      border-left-color: var(--fill-color);\n",
              "      border-top-color: var(--fill-color);\n",
              "      border-right-color: var(--fill-color);\n",
              "    }\n",
              "    40% {\n",
              "      border-color: transparent;\n",
              "      border-right-color: var(--fill-color);\n",
              "      border-top-color: var(--fill-color);\n",
              "    }\n",
              "    60% {\n",
              "      border-color: transparent;\n",
              "      border-right-color: var(--fill-color);\n",
              "    }\n",
              "    80% {\n",
              "      border-color: transparent;\n",
              "      border-right-color: var(--fill-color);\n",
              "      border-bottom-color: var(--fill-color);\n",
              "    }\n",
              "    90% {\n",
              "      border-color: transparent;\n",
              "      border-bottom-color: var(--fill-color);\n",
              "    }\n",
              "  }\n",
              "</style>\n",
              "\n",
              "  <script>\n",
              "    async function quickchart(key) {\n",
              "      const quickchartButtonEl =\n",
              "        document.querySelector('#' + key + ' button');\n",
              "      quickchartButtonEl.disabled = true;  // To prevent multiple clicks.\n",
              "      quickchartButtonEl.classList.add('colab-df-spinner');\n",
              "      try {\n",
              "        const charts = await google.colab.kernel.invokeFunction(\n",
              "            'suggestCharts', [key], {});\n",
              "      } catch (error) {\n",
              "        console.error('Error during call to suggestCharts:', error);\n",
              "      }\n",
              "      quickchartButtonEl.classList.remove('colab-df-spinner');\n",
              "      quickchartButtonEl.classList.add('colab-df-quickchart-complete');\n",
              "    }\n",
              "    (() => {\n",
              "      let quickchartButtonEl =\n",
              "        document.querySelector('#df-59f77069-4ab0-4624-8976-4e99a9489249 button');\n",
              "      quickchartButtonEl.style.display =\n",
              "        google.colab.kernel.accessAllowed ? 'block' : 'none';\n",
              "    })();\n",
              "  </script>\n",
              "</div>\n",
              "\n",
              "    </div>\n",
              "  </div>\n"
            ],
            "application/vnd.google.colaboratory.intrinsic+json": {
              "type": "dataframe",
              "variable_name": "df"
            }
          },
          "metadata": {},
          "execution_count": 9
        }
      ]
    },
    {
      "cell_type": "code",
      "metadata": {
        "id": "h2bqxZ20bPTz"
      },
      "source": [
        "#check whether there are any null value\n",
        "df.isnull().values.any()"
      ],
      "execution_count": null,
      "outputs": []
    },
    {
      "cell_type": "markdown",
      "metadata": {
        "id": "4ZfrNp5hanRF"
      },
      "source": [
        "define X and Y from dataset to rain and test"
      ]
    },
    {
      "cell_type": "code",
      "metadata": {
        "id": "gycL5-xPhU5f"
      },
      "source": [
        "X = df.iloc[:,:-1]\n",
        "print(X.shape)\n",
        "Y = df.iloc[:,-1]\n",
        "sc_ = StandardScaler()\n",
        "sc_.fit(X)\n",
        "X_std = sc_.transform(X)\n",
        "print(X_std.shape)"
      ],
      "execution_count": null,
      "outputs": []
    },
    {
      "cell_type": "code",
      "metadata": {
        "id": "jtv0VqvghU5i"
      },
      "source": [
        "X_train,X_test,y_train,y_test = train_test_split(X, Y, test_size=0.3,random_state=0)\n",
        "sc = StandardScaler()\n",
        "sc.fit(X_train)\n",
        "X_train_std = sc.transform(X_train)\n",
        "X_test_std = sc.transform(X_test)\n",
        "X_combined_std = np.vstack((X_train_std,X_test_std))\n",
        "y_combined = np.hstack((y_train,y_test))"
      ],
      "execution_count": null,
      "outputs": []
    },
    {
      "cell_type": "code",
      "metadata": {
        "id": "nr5Oj9DdqGVy"
      },
      "source": [
        "def calculate_Fscore(conf_matrix):# order : 0 tn, 1 fp, 2 fn, 3 tp\n",
        "    accuracy=(conf_matrix[3]+conf_matrix[0])/(conf_matrix[3]+conf_matrix[2]+conf_matrix[0]+conf_matrix[1])*100\n",
        "    precision=conf_matrix[3]/(conf_matrix[3]+conf_matrix[1])\n",
        "    recall=conf_matrix[3]/(conf_matrix[3]+conf_matrix[2])\n",
        "    speficity=conf_matrix[0]/(conf_matrix[0]+conf_matrix[1])\n",
        "    fscore=2*(precision*recall)/(precision+recall)\n",
        "    NegPredictiveVal=conf_matrix[0]/(conf_matrix[0]+conf_matrix[2])\n",
        "    print('conf_matrix : ',conf_matrix)\n",
        "    print('accuracy : ',accuracy)\n",
        "    print('fscore : ',fscore)\n",
        "    print('precision : ',precision)\n",
        "    print('recall : ',recall)\n",
        "    print('NegPredictiveVal : ',NegPredictiveVal)\n",
        "    print('speficity : ',speficity)\n",
        "\n",
        "    #print(log_loss)\n",
        "    return([accuracy,fscore])"
      ],
      "execution_count": null,
      "outputs": []
    },
    {
      "cell_type": "markdown",
      "metadata": {
        "id": "k00S4AcerM_b"
      },
      "source": [
        "# Algorithms Testing"
      ]
    },
    {
      "cell_type": "code",
      "metadata": {
        "id": "SuQjXbzWhU5l",
        "outputId": "0e29078b-a692-4afa-d980-c4410338c133",
        "colab": {
          "base_uri": "https://localhost:8080/"
        }
      },
      "source": [
        "from sklearn.svm import SVC\n",
        "svc = SVC(kernel='linear', C=1.0, random_state=0)\n",
        "svc.fit(X_train_std, y_train)\n",
        "# print(\"Accuracy on training set: {:.3f}\".format(svm.score(X_train_std,y_train)))\n",
        "# print(\"Accuracy on test set: {:.3f}\".format(svm.score(X_test_std,y_test)))\n",
        "print(cross_val_score(svc, X_std, Y, cv=3))\n",
        "print(\"The average cross validation score is: {:.3f}\".format(np.mean(cross_val_score(svc, X_std, Y, cv=3))))\n",
        "#LINEAR(71) > SIGMOID(63) > POLY(62) > RBF(61)"
      ],
      "execution_count": null,
      "outputs": [
        {
          "output_type": "stream",
          "text": [
            "[0.61654135 0.68939394 0.68939394]\n",
            "The average cross validation score is: 0.665\n"
          ],
          "name": "stdout"
        }
      ]
    },
    {
      "cell_type": "code",
      "metadata": {
        "id": "bypIrvetj8sQ",
        "outputId": "ae1328df-204f-4e6f-8900-52a2e015f06e",
        "colab": {
          "base_uri": "https://localhost:8080/"
        }
      },
      "source": [
        "from sklearn.svm import NuSVC\n",
        "nusvc = NuSVC()\n",
        "nusvc.fit(X_train_std, y_train)\n",
        "# print(\"Accuracy on training set: {:.3f}\".format(svm.score(X_train_std,y_train)))\n",
        "# print(\"Accuracy on test set: {:.3f}\".format(svm.score(X_test_std,y_test)))\n",
        "print(cross_val_score(nusvc, X_std, Y, cv=3))\n",
        "print(\"The average cross validation score is: {:.3f}\".format(np.mean(cross_val_score(nusvc, X_std, Y, cv=3))))\n",
        "#LINEAR(71) > SIGMOID(63) > POLY(62) > RBF(61)"
      ],
      "execution_count": null,
      "outputs": [
        {
          "output_type": "stream",
          "text": [
            "[0.72592593 0.94776119 0.89552239]\n",
            "The average cross validation score is: 0.856\n"
          ],
          "name": "stdout"
        }
      ]
    },
    {
      "cell_type": "code",
      "metadata": {
        "id": "ECSe2jrBj9_g",
        "outputId": "b3697c60-baf4-4044-dfb7-aa5e69998f65",
        "colab": {
          "base_uri": "https://localhost:8080/"
        }
      },
      "source": [
        "from sklearn.svm import LinearSVC\n",
        "lin_svc = LinearSVC()\n",
        "lin_svc.fit(X_train_std, y_train)\n",
        "# print(\"Accuracy on training set: {:.3f}\".format(svm.score(X_train_std,y_train)))\n",
        "# print(\"Accuracy on test set: {:.3f}\".format(svm.score(X_test_std,y_test)))\n",
        "print(cross_val_score(lin_svc, X_std, Y, cv=3))\n",
        "print(\"The average cross validation score is: {:.3f}\".format(np.mean(cross_val_score(lin_svc, X_std, Y, cv=3))))\n",
        "#LINEAR(71) > SIGMOID(63) > POLY(62) > RBF(61)"
      ],
      "execution_count": null,
      "outputs": [
        {
          "output_type": "stream",
          "text": [
            "[0.73333333 0.96268657 0.68656716]\n",
            "The average cross validation score is: 0.794\n"
          ],
          "name": "stdout"
        }
      ]
    },
    {
      "cell_type": "code",
      "metadata": {
        "id": "s8F4nvJvhU5r",
        "outputId": "aca16e32-9773-46d0-b3b4-c0c1da0c4453",
        "colab": {
          "base_uri": "https://localhost:8080/"
        }
      },
      "source": [
        "from sklearn.naive_bayes import GaussianNB\n",
        "gnb = GaussianNB()\n",
        "gnb.fit(X_train_std, y_train)\n",
        "\n",
        "print(cross_val_score(gnb, X_std, Y, cv=3))\n",
        "print(\"The average cross validation score is: {:.3f}\".format(np.mean(cross_val_score(gnb, X_std, Y, cv=3))))"
      ],
      "execution_count": null,
      "outputs": [
        {
          "output_type": "stream",
          "text": [
            "[0.72592593 0.64179104 0.68656716]\n",
            "The average cross validation score is: 0.685\n"
          ],
          "name": "stdout"
        }
      ]
    },
    {
      "cell_type": "code",
      "metadata": {
        "id": "hsxJSLN8jq2p",
        "outputId": "15b1030a-6929-4acd-ac97-1c43fe9b3307",
        "colab": {
          "base_uri": "https://localhost:8080/"
        }
      },
      "source": [
        "from sklearn.naive_bayes import BernoulliNB\n",
        "bnb = BernoulliNB()\n",
        "bnb.fit(X_train_std, y_train)\n",
        "\n",
        "print(cross_val_score(bnb, X_std, Y, cv=3))\n",
        "print(\"The average cross validation score is: {:.3f}\".format(np.mean(cross_val_score(bnb, X_std, Y, cv=3))))"
      ],
      "execution_count": null,
      "outputs": [
        {
          "output_type": "stream",
          "text": [
            "[0.73333333 0.82835821 0.82089552]\n",
            "The average cross validation score is: 0.794\n"
          ],
          "name": "stdout"
        }
      ]
    },
    {
      "cell_type": "code",
      "metadata": {
        "id": "zdbYTZAChU5y",
        "outputId": "a0fdf3e0-e04d-4fd7-ab07-8a2f197baad8",
        "colab": {
          "base_uri": "https://localhost:8080/"
        }
      },
      "source": [
        "from sklearn.linear_model import LogisticRegression\n",
        "lr = LogisticRegression(C=1000.0, random_state=0)\n",
        "lr.fit(X_train_std,y_train)\n",
        "# print(\"Accuracy on training set: {:.3f}\".format(lr.score(X_train_std,y_train)))\n",
        "# print(\"Accuracy on test set: {:.3f}\".format(lr.score(X_test_std,y_test)))\n",
        "print(cross_val_score(lr, X_std, Y, cv=3))\n",
        "print(\"The average cross validation score is: {:.3f}\".format(np.mean(cross_val_score(lr, X_std, Y, cv=3))))"
      ],
      "execution_count": null,
      "outputs": [
        {
          "output_type": "stream",
          "text": [
            "[0.6        0.94776119 0.68656716]\n",
            "The average cross validation score is: 0.745\n"
          ],
          "name": "stdout"
        }
      ]
    },
    {
      "cell_type": "code",
      "metadata": {
        "id": "u7tP2zpJhU51",
        "outputId": "99fc4abb-0036-4c8c-dd65-1642af034ee8",
        "colab": {
          "base_uri": "https://localhost:8080/"
        }
      },
      "source": [
        "from sklearn.tree import DecisionTreeClassifier\n",
        "tree = DecisionTreeClassifier(random_state=0)\n",
        "tree = DecisionTreeClassifier(criterion='entropy',max_depth = 4,random_state=0)\n",
        "tree.fit(X_train_std,y_train)\n",
        "# print(\"Accuracy on training set: {:.3f}\".format(tree.score(X_train_std,y_train)))\n",
        "# print(\"Accuracy on test set: {:.3f}\".format(tree.score(X_test_std,y_test)))\n",
        "print(cross_val_score(tree, X_std, Y, cv=3))\n",
        "print(\"The average cross validation score is: {:.3f}\".format(np.mean(cross_val_score(tree, X_std, Y, cv=3))))"
      ],
      "execution_count": null,
      "outputs": [
        {
          "output_type": "stream",
          "text": [
            "[0.77037037 0.99253731 0.8880597 ]\n",
            "The average cross validation score is: 0.884\n"
          ],
          "name": "stdout"
        }
      ]
    },
    {
      "cell_type": "code",
      "metadata": {
        "id": "qQVvnshvhU55",
        "outputId": "d187eed6-852e-4bfe-b722-351bbcb08fa7",
        "colab": {
          "base_uri": "https://localhost:8080/"
        }
      },
      "source": [
        "from sklearn.neighbors import KNeighborsClassifier\n",
        "neigh = KNeighborsClassifier(n_neighbors=5)\n",
        "neigh.fit(X_train_std,y_train)\n",
        "# print(\"Accuracy on training set: {:.3f}\".format(neigh.score(X_train_std,y_train)))\n",
        "# print(\"Accuracy on test set: {:.3f}\".format(neigh.score(X_test_std,y_test)))\n",
        "print(cross_val_score(neigh, X_std, Y, cv=3))\n",
        "print(\"The average cross validation score is: {:.3f}\".format(np.mean(cross_val_score(neigh, X_std, Y, cv=3))))"
      ],
      "execution_count": null,
      "outputs": [
        {
          "output_type": "stream",
          "text": [
            "[0.64661654 0.78787879 0.75      ]\n",
            "The average cross validation score is: 0.728\n"
          ],
          "name": "stdout"
        }
      ]
    },
    {
      "cell_type": "code",
      "metadata": {
        "id": "yFoErhzhhU59",
        "outputId": "f52695d6-44d7-4f8a-bb28-301bc6f37a50",
        "colab": {
          "base_uri": "https://localhost:8080/"
        }
      },
      "source": [
        "from sklearn.ensemble import RandomForestClassifier, VotingClassifier\n",
        "rf = RandomForestClassifier(n_estimators=7, max_depth=None, min_samples_split=2, random_state=0)\n",
        "rf.fit(X_train_std,y_train)\n",
        "# print(\"Accuracy on training set: {:.3f}\".format(rf.score(X_train_std,y_train)))\n",
        "# print(\"Accuracy on test set: {:.3f}\".format(rf.score(X_test_std,y_test)))\n",
        "print(cross_val_score(rf, X_std, Y, cv=3))\n",
        "print(\"The average cross validation score is: {:.3f}\".format(np.mean(cross_val_score(rf, X_std, Y, cv=3))))"
      ],
      "execution_count": null,
      "outputs": [
        {
          "output_type": "stream",
          "text": [
            "[0.8962963  1.         0.89552239]\n",
            "The average cross validation score is: 0.931\n"
          ],
          "name": "stdout"
        }
      ]
    },
    {
      "cell_type": "code",
      "metadata": {
        "id": "x2vQJD1whU6D",
        "outputId": "447488fb-c8fb-4735-fa84-8e90bae24ac0",
        "colab": {
          "base_uri": "https://localhost:8080/"
        }
      },
      "source": [
        "from sklearn.ensemble import ExtraTreesClassifier\n",
        "xtra = ExtraTreesClassifier(n_estimators=6, max_depth=None, min_samples_split=2, random_state=0)\n",
        "xtra.fit(X_train_std,y_train)\n",
        "print(cross_val_score(xtra, X_std, Y, cv = 3))\n",
        "print(\"The average cross validation score is: {:.3f}\".format(np.mean(cross_val_score(xtra, X_std, Y, cv=3))))"
      ],
      "execution_count": null,
      "outputs": [
        {
          "output_type": "stream",
          "text": [
            "[0.81203008 1.         0.96969697]\n",
            "The average cross validation score is: 0.927\n"
          ],
          "name": "stdout"
        },
        {
          "output_type": "execute_result",
          "data": {
            "text/plain": [
              "1.0"
            ]
          },
          "metadata": {
            "tags": []
          },
          "execution_count": 90
        }
      ]
    },
    {
      "cell_type": "markdown",
      "metadata": {
        "id": "bDzfXJNdrAwS"
      },
      "source": [
        "## boosting alorithms"
      ]
    },
    {
      "cell_type": "code",
      "metadata": {
        "id": "UZtCUDaEhU6L"
      },
      "source": [
        "from sklearn.ensemble import AdaBoostClassifier\n",
        "from sklearn.ensemble import GradientBoostingClassifier\n",
        "from lightgbm.sklearn import LGBMClassifier\n",
        "from xgboost import XGBClassifier"
      ],
      "execution_count": null,
      "outputs": []
    },
    {
      "cell_type": "code",
      "metadata": {
        "id": "kiXn7TbphU6A",
        "outputId": "9646a547-1fbe-4ad3-fbd1-782bb0618468",
        "colab": {
          "base_uri": "https://localhost:8080/"
        }
      },
      "source": [
        "xg = XGBClassifier()\n",
        "xg.fit(X_train_std,y_train)\n",
        "print(cross_val_score(xg, X_std, Y, cv=3))\n",
        "print(\"The average cross validation score is: {:.3f}\".format(np.mean(cross_val_score(xg, X_std, Y, cv=3))))"
      ],
      "execution_count": null,
      "outputs": [
        {
          "output_type": "stream",
          "text": [
            "[0.66165414 1.         0.84848485]\n",
            "The average cross validation score is: 0.837\n"
          ],
          "name": "stdout"
        }
      ]
    },
    {
      "cell_type": "code",
      "metadata": {
        "id": "ccIIowAnkyYM",
        "outputId": "29cf843b-b5a6-48e0-e439-1cae906090b5",
        "colab": {
          "base_uri": "https://localhost:8080/"
        }
      },
      "source": [
        "lgb = LGBMClassifier()\n",
        "lgb.fit(X_train_std,y_train)\n",
        "print(cross_val_score(lgb, X_std, Y, cv=3))\n",
        "print(\"The average cross validation score is: {:.3f}\".format(np.mean(cross_val_score(lgb, X_std, Y, cv=3))))"
      ],
      "execution_count": null,
      "outputs": [
        {
          "output_type": "stream",
          "text": [
            "[0.78947368 1.         0.84848485]\n",
            "The average cross validation score is: 0.879\n"
          ],
          "name": "stdout"
        }
      ]
    },
    {
      "cell_type": "code",
      "metadata": {
        "id": "o6fg6WsqkyWo",
        "outputId": "3c3decad-f9cb-4264-db8a-19de51e2b653",
        "colab": {
          "base_uri": "https://localhost:8080/"
        }
      },
      "source": [
        "adb = AdaBoostClassifier()\n",
        "adb.fit(X_train_std,y_train)\n",
        "print(cross_val_score(adb, X_std, Y, cv=3))\n",
        "print(\"The average cross validation score is: {:.3f}\".format(np.mean(cross_val_score(adb, X_std, Y, cv=3))))"
      ],
      "execution_count": null,
      "outputs": [
        {
          "output_type": "stream",
          "text": [
            "[0.29323308 0.48484848 0.58333333]\n",
            "The average cross validation score is: 0.506\n"
          ],
          "name": "stdout"
        }
      ]
    },
    {
      "cell_type": "code",
      "metadata": {
        "id": "zD8yI3bclDGV"
      },
      "source": [
        "gbm = GradientBoostingClassifier()\n",
        "gbm.fit(X_train_std,y_train)\n",
        "print(cross_val_score(gbm, X_std, Y, cv=3))\n",
        "print(\"The average cross validation score is: {:.3f}\".format(np.mean(cross_val_score(gbm, X_std, Y, cv=3))))"
      ],
      "execution_count": null,
      "outputs": []
    },
    {
      "cell_type": "markdown",
      "metadata": {
        "id": "Fx6kRq4krFcS"
      },
      "source": [
        "## GAM"
      ]
    },
    {
      "cell_type": "code",
      "metadata": {
        "id": "vondyeUil6_X"
      },
      "source": [
        "!pip install pygam\n",
        "from pygam import LogisticGAM"
      ],
      "execution_count": null,
      "outputs": []
    },
    {
      "cell_type": "code",
      "metadata": {
        "id": "taX1xUW0bAaS"
      },
      "source": [
        "X_train_std.isnull().values.any()"
      ],
      "execution_count": null,
      "outputs": []
    },
    {
      "cell_type": "code",
      "metadata": {
        "id": "Zw1_1anal-w1"
      },
      "source": [
        "from sklearn.model_selection import cross_val_predict\n",
        "from sklearn.model_selection import cross_validate\n",
        "from sklearn.metrics import confusion_matrix\n",
        "gam = LogisticGAM()\n",
        "gam.fit(X_train_std,y_train)\n",
        "\n",
        "predictions=cross_val_predict(gam,X_std,Y,cv=4)\n",
        "cm=list(confusion_matrix(Y,predictions).ravel())\n",
        "calculate_Fscore(cm)\n",
        "\n",
        "# print(cross_val_score(gam, X_std, Y, cv=3,scoring='accuracy'))\n",
        "# print(\"The average cross validation score is: {:.3f}\".format(np.mean(cross_val_score(gam, X_std, Y, cv=3))))"
      ],
      "execution_count": null,
      "outputs": []
    },
    {
      "cell_type": "markdown",
      "metadata": {
        "id": "DTAAbpd1rbYZ"
      },
      "source": [
        "# ensemble classificattion testing"
      ]
    },
    {
      "cell_type": "markdown",
      "metadata": {
        "id": "qr4hzuFOtmKJ"
      },
      "source": [
        "svc\n",
        "/\n",
        "lin_svc\n",
        "/\n",
        "nusvc\n",
        "/\n",
        "gnb\n",
        "/\n",
        "bnb\n",
        "/\n",
        "lr\n",
        "/\n",
        "tree\n",
        "/\n",
        "neigh\n",
        "/\n",
        "rf\n",
        "/\n",
        "xtra\n",
        "/\n",
        "adb\n",
        "/\n",
        "gbm\n",
        "/\n",
        "xg\n",
        "/\n",
        "lgb\n",
        "\n",
        "\n"
      ]
    },
    {
      "cell_type": "code",
      "metadata": {
        "id": "bKf09T7ereTW"
      },
      "source": [
        "estimators = [\n",
        "              # ('svc', svc ), #0.665\n",
        "              # ('lin_svc', lin_svc ), #0.733\n",
        "              # ('nusvc', nusvc ), #0.680\n",
        "              ('gnb', gnb ), #0.748\n",
        "              # ('bnb', bnb ), #0.653\n",
        "              #('lr',  lr), #0.711\n",
        "              # ('tree', tree), #0.877\n",
        "              # ('neigh', neigh ), #0.728\n",
        "              ('rf', rf ), #0.910\n",
        "              ('xtra', xtra ), # 0.927\n",
        "              ('gbm', gbm), #0.889\n",
        "              ('xg', xg ), #0.837\n",
        "              # ('lgb', lgb ), #0.879\n",
        "              ]"
      ],
      "execution_count": null,
      "outputs": []
    },
    {
      "cell_type": "code",
      "metadata": {
        "id": "pvne9FQ6xzr0",
        "outputId": "889336c2-d9e5-446a-8bae-297b35b82fde",
        "colab": {
          "base_uri": "https://localhost:8080/"
        }
      },
      "source": [
        "from sklearn.ensemble import StackingClassifier\n",
        "clf = StackingClassifier(estimators=estimators, cv=4, final_estimator=LogisticRegression())\n",
        "clf.fit(X_train_std,y_train)\n",
        "print(\"The average cross validation score is: {:.3f}\".format(np.mean(cross_val_score(clf, X_std, Y, cv=3))))"
      ],
      "execution_count": null,
      "outputs": [
        {
          "output_type": "stream",
          "text": [
            "The average cross validation score is: 0.687\n"
          ],
          "name": "stdout"
        }
      ]
    },
    {
      "cell_type": "markdown",
      "metadata": {
        "id": "_litYjEQjiFY"
      },
      "source": [
        "### automated ensembling"
      ]
    },
    {
      "cell_type": "code",
      "metadata": {
        "id": "_SXXpUIW5lHU"
      },
      "source": [
        "import random\n",
        "\n",
        "baseLeaners = [ svc , lin_svc , nusvc , gnb , bnb , lr , tree , neigh , rf  , adb , gbm , xg ,lgb ] #, xtra\n",
        "tmp=baseLeaners\n",
        "estimator_name=0\n",
        "estimators =[(str(estimator_name),xtra)]\n",
        "acc=0.931;acc_new=0.0\n",
        "\n",
        "while acc_new<acc:\n",
        "  num = random.randint(0, 12)\n",
        "  estimator_name+=1\n",
        "  print(estimator_name)\n",
        "  estimators.append((str(estimator_name),baseLeaners[num]))\n",
        "  # print(num,estimators)\n",
        "\n",
        "  clf = StackingClassifier(estimators=estimators, cv=4, final_estimator=LogisticRegression())\n",
        "  clf.fit(X_train_std,y_train)\n",
        "  acc_new=np.mean(cross_val_score(clf, X_std, Y, cv=3))\n",
        "\n",
        "  if acc_new>acc:\n",
        "    tmp.remove(baseLeaners[num])\n",
        "    print(acc_new)\n",
        "\n",
        "print(estimators)"
      ],
      "execution_count": null,
      "outputs": []
    },
    {
      "cell_type": "code",
      "metadata": {
        "id": "DY9dd6qAM91V"
      },
      "source": [
        "print(estimators)"
      ],
      "execution_count": null,
      "outputs": []
    },
    {
      "cell_type": "markdown",
      "metadata": {
        "id": "uLiZXHcHj1p2"
      },
      "source": [
        "# Save models"
      ]
    },
    {
      "cell_type": "code",
      "metadata": {
        "id": "HJgzixzMlZrm"
      },
      "source": [
        "from sklearn.ensemble import ExtraTreesClassifier\n",
        "xtra2 = ExtraTreesClassifier(n_estimators=6, max_depth=None, min_samples_split=2, random_state=0)\n",
        "xtra2.fit( X_std, Y)\n",
        "print(cross_val_score(xtra2, X_std, Y, cv = 3))\n",
        "print(\"The average cross validation score is: {:.3f}\".format(np.mean(cross_val_score(xtra2, X_std, Y, cv=3))))"
      ],
      "execution_count": null,
      "outputs": []
    },
    {
      "cell_type": "code",
      "metadata": {
        "id": "SZWmg33-CPwE",
        "outputId": "d74cc1a8-4ab8-443d-e075-91258eb8332d",
        "colab": {
          "base_uri": "https://localhost:8080/"
        }
      },
      "source": [
        "from sklearn.externals import joblib\n",
        "\n",
        "#dont run\n",
        "#joblib.dump(xtra2, 'pickle_model_xtra.pkl') #multiclass\n",
        "# joblib.dump(rf2, 'pickle_model_rf.pkl') #binary"
      ],
      "execution_count": null,
      "outputs": [
        {
          "output_type": "execute_result",
          "data": {
            "text/plain": [
              "['pickle_model_xtra.pkl']"
            ]
          },
          "metadata": {
            "tags": []
          },
          "execution_count": 99
        }
      ]
    },
    {
      "cell_type": "code",
      "metadata": {
        "id": "gL2iGTthdBvn"
      },
      "source": [
        "from pydrive.auth import GoogleAuth\n",
        "from pydrive.drive import GoogleDrive\n",
        "from google.colab import auth\n",
        "from oauth2client.client import GoogleCredentials\n",
        "\n",
        "# 1. Authenticate and create the PyDrive client.\n",
        "auth.authenticate_user()\n",
        "gauth = GoogleAuth()\n",
        "gauth.credentials = GoogleCredentials.get_application_default()\n",
        "drive = GoogleDrive(gauth)\n",
        "\n",
        "# get the folder id where you want to save your file\n",
        "file = drive.CreateFile({'parents':[{u'id': '1IRDp6iQfoGfK0oXrH7BOjWqyUaq5tHvl'}]})\n",
        "file.SetContentFile(pkl_filename)\n",
        "# file.Upload() #dont run"
      ],
      "execution_count": null,
      "outputs": []
    }
  ]
}